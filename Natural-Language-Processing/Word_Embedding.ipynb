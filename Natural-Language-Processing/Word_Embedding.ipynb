{
  "nbformat": 4,
  "nbformat_minor": 0,
  "metadata": {
    "colab": {
      "name": "Word Embedding.ipynb",
      "provenance": [],
      "toc_visible": true
    },
    "kernelspec": {
      "name": "python3",
      "display_name": "Python 3"
    }
  },
  "cells": [
    {
      "cell_type": "code",
      "metadata": {
        "colab": {
          "base_uri": "https://localhost:8080/"
        },
        "id": "Qniwbn65azOB",
        "outputId": "9becdeda-f3e3-4da2-8aa2-769a3f168a66"
      },
      "source": [
        "pip install tensorflow"
      ],
      "execution_count": null,
      "outputs": [
        {
          "output_type": "stream",
          "text": [
            "Requirement already satisfied: tensorflow in /usr/local/lib/python3.7/dist-packages (2.4.1)\n",
            "Requirement already satisfied: six~=1.15.0 in /usr/local/lib/python3.7/dist-packages (from tensorflow) (1.15.0)\n",
            "Requirement already satisfied: wheel~=0.35 in /usr/local/lib/python3.7/dist-packages (from tensorflow) (0.36.2)\n",
            "Requirement already satisfied: keras-preprocessing~=1.1.2 in /usr/local/lib/python3.7/dist-packages (from tensorflow) (1.1.2)\n",
            "Requirement already satisfied: tensorboard~=2.4 in /usr/local/lib/python3.7/dist-packages (from tensorflow) (2.4.1)\n",
            "Requirement already satisfied: astunparse~=1.6.3 in /usr/local/lib/python3.7/dist-packages (from tensorflow) (1.6.3)\n",
            "Requirement already satisfied: wrapt~=1.12.1 in /usr/local/lib/python3.7/dist-packages (from tensorflow) (1.12.1)\n",
            "Requirement already satisfied: absl-py~=0.10 in /usr/local/lib/python3.7/dist-packages (from tensorflow) (0.10.0)\n",
            "Requirement already satisfied: typing-extensions~=3.7.4 in /usr/local/lib/python3.7/dist-packages (from tensorflow) (3.7.4.3)\n",
            "Requirement already satisfied: tensorflow-estimator<2.5.0,>=2.4.0 in /usr/local/lib/python3.7/dist-packages (from tensorflow) (2.4.0)\n",
            "Requirement already satisfied: termcolor~=1.1.0 in /usr/local/lib/python3.7/dist-packages (from tensorflow) (1.1.0)\n",
            "Requirement already satisfied: numpy~=1.19.2 in /usr/local/lib/python3.7/dist-packages (from tensorflow) (1.19.5)\n",
            "Requirement already satisfied: protobuf>=3.9.2 in /usr/local/lib/python3.7/dist-packages (from tensorflow) (3.12.4)\n",
            "Requirement already satisfied: google-pasta~=0.2 in /usr/local/lib/python3.7/dist-packages (from tensorflow) (0.2.0)\n",
            "Requirement already satisfied: opt-einsum~=3.3.0 in /usr/local/lib/python3.7/dist-packages (from tensorflow) (3.3.0)\n",
            "Requirement already satisfied: flatbuffers~=1.12.0 in /usr/local/lib/python3.7/dist-packages (from tensorflow) (1.12)\n",
            "Requirement already satisfied: gast==0.3.3 in /usr/local/lib/python3.7/dist-packages (from tensorflow) (0.3.3)\n",
            "Requirement already satisfied: grpcio~=1.32.0 in /usr/local/lib/python3.7/dist-packages (from tensorflow) (1.32.0)\n",
            "Requirement already satisfied: h5py~=2.10.0 in /usr/local/lib/python3.7/dist-packages (from tensorflow) (2.10.0)\n",
            "Requirement already satisfied: google-auth-oauthlib<0.5,>=0.4.1 in /usr/local/lib/python3.7/dist-packages (from tensorboard~=2.4->tensorflow) (0.4.3)\n",
            "Requirement already satisfied: markdown>=2.6.8 in /usr/local/lib/python3.7/dist-packages (from tensorboard~=2.4->tensorflow) (3.3.4)\n",
            "Requirement already satisfied: tensorboard-plugin-wit>=1.6.0 in /usr/local/lib/python3.7/dist-packages (from tensorboard~=2.4->tensorflow) (1.8.0)\n",
            "Requirement already satisfied: google-auth<2,>=1.6.3 in /usr/local/lib/python3.7/dist-packages (from tensorboard~=2.4->tensorflow) (1.27.1)\n",
            "Requirement already satisfied: werkzeug>=0.11.15 in /usr/local/lib/python3.7/dist-packages (from tensorboard~=2.4->tensorflow) (1.0.1)\n",
            "Requirement already satisfied: requests<3,>=2.21.0 in /usr/local/lib/python3.7/dist-packages (from tensorboard~=2.4->tensorflow) (2.23.0)\n",
            "Requirement already satisfied: setuptools>=41.0.0 in /usr/local/lib/python3.7/dist-packages (from tensorboard~=2.4->tensorflow) (54.0.0)\n",
            "Requirement already satisfied: requests-oauthlib>=0.7.0 in /usr/local/lib/python3.7/dist-packages (from google-auth-oauthlib<0.5,>=0.4.1->tensorboard~=2.4->tensorflow) (1.3.0)\n",
            "Requirement already satisfied: importlib-metadata; python_version < \"3.8\" in /usr/local/lib/python3.7/dist-packages (from markdown>=2.6.8->tensorboard~=2.4->tensorflow) (3.7.2)\n",
            "Requirement already satisfied: pyasn1-modules>=0.2.1 in /usr/local/lib/python3.7/dist-packages (from google-auth<2,>=1.6.3->tensorboard~=2.4->tensorflow) (0.2.8)\n",
            "Requirement already satisfied: cachetools<5.0,>=2.0.0 in /usr/local/lib/python3.7/dist-packages (from google-auth<2,>=1.6.3->tensorboard~=2.4->tensorflow) (4.2.1)\n",
            "Requirement already satisfied: rsa<5,>=3.1.4; python_version >= \"3.6\" in /usr/local/lib/python3.7/dist-packages (from google-auth<2,>=1.6.3->tensorboard~=2.4->tensorflow) (4.7.2)\n",
            "Requirement already satisfied: idna<3,>=2.5 in /usr/local/lib/python3.7/dist-packages (from requests<3,>=2.21.0->tensorboard~=2.4->tensorflow) (2.10)\n",
            "Requirement already satisfied: urllib3!=1.25.0,!=1.25.1,<1.26,>=1.21.1 in /usr/local/lib/python3.7/dist-packages (from requests<3,>=2.21.0->tensorboard~=2.4->tensorflow) (1.24.3)\n",
            "Requirement already satisfied: certifi>=2017.4.17 in /usr/local/lib/python3.7/dist-packages (from requests<3,>=2.21.0->tensorboard~=2.4->tensorflow) (2020.12.5)\n",
            "Requirement already satisfied: chardet<4,>=3.0.2 in /usr/local/lib/python3.7/dist-packages (from requests<3,>=2.21.0->tensorboard~=2.4->tensorflow) (3.0.4)\n",
            "Requirement already satisfied: oauthlib>=3.0.0 in /usr/local/lib/python3.7/dist-packages (from requests-oauthlib>=0.7.0->google-auth-oauthlib<0.5,>=0.4.1->tensorboard~=2.4->tensorflow) (3.1.0)\n",
            "Requirement already satisfied: zipp>=0.5 in /usr/local/lib/python3.7/dist-packages (from importlib-metadata; python_version < \"3.8\"->markdown>=2.6.8->tensorboard~=2.4->tensorflow) (3.4.1)\n",
            "Requirement already satisfied: pyasn1<0.5.0,>=0.4.6 in /usr/local/lib/python3.7/dist-packages (from pyasn1-modules>=0.2.1->google-auth<2,>=1.6.3->tensorboard~=2.4->tensorflow) (0.4.8)\n"
          ],
          "name": "stdout"
        }
      ]
    },
    {
      "cell_type": "code",
      "metadata": {
        "id": "QkevObWBa1xv"
      },
      "source": [
        "from tensorflow.keras.preprocessing.text import one_hot"
      ],
      "execution_count": null,
      "outputs": []
    },
    {
      "cell_type": "code",
      "metadata": {
        "id": "W_pozunPa7km"
      },
      "source": [
        "sent=['the glass of milk',\r\n",
        "      'the glass of juice',\r\n",
        "      'the cup of tea',\r\n",
        "      'I am a good boy',\r\n",
        "      'I am a good developer',\r\n",
        "      'understand the meaning of words',\r\n",
        "      'your videos are good']"
      ],
      "execution_count": null,
      "outputs": []
    },
    {
      "cell_type": "code",
      "metadata": {
        "id": "pWBNks0rbMUC"
      },
      "source": [
        "voc_size=10000"
      ],
      "execution_count": null,
      "outputs": []
    },
    {
      "cell_type": "code",
      "metadata": {
        "colab": {
          "base_uri": "https://localhost:8080/"
        },
        "id": "t2zkQokrbO-5",
        "outputId": "12090ac2-c259-4d8a-f425-540aeaa2ac13"
      },
      "source": [
        "onehot_repr=[one_hot(i,voc_size)for i in sent]\r\n",
        "print(onehot_repr)"
      ],
      "execution_count": null,
      "outputs": [
        {
          "output_type": "stream",
          "text": [
            "[[9492, 9895, 4042, 5078], [9492, 9895, 4042, 8494], [9492, 9444, 4042, 7193], [5207, 6684, 6677, 4414, 9633], [5207, 6684, 6677, 4414, 1133], [3796, 9492, 4195, 4042, 7512], [8393, 3004, 6640, 4414]]\n"
          ],
          "name": "stdout"
        }
      ]
    },
    {
      "cell_type": "code",
      "metadata": {
        "id": "YmyyM2qBbYWI"
      },
      "source": [
        "from tensorflow.keras.layers import Embedding\r\n",
        "from tensorflow.keras.models import Sequential\r\n",
        "from tensorflow.keras.preprocessing.sequence import pad_sequences"
      ],
      "execution_count": null,
      "outputs": []
    },
    {
      "cell_type": "code",
      "metadata": {
        "id": "QwV24ldzczIR"
      },
      "source": [
        "import numpy as np"
      ],
      "execution_count": null,
      "outputs": []
    },
    {
      "cell_type": "code",
      "metadata": {
        "colab": {
          "base_uri": "https://localhost:8080/"
        },
        "id": "RXzX0EjTc1tI",
        "outputId": "b98f49ae-7619-448f-c154-901b0d6be119"
      },
      "source": [
        "sent_length=8\r\n",
        "embedded_doc=pad_sequences(onehot_repr,padding='pre',maxlen=sent_length)\r\n",
        "print(embedded_doc)"
      ],
      "execution_count": null,
      "outputs": [
        {
          "output_type": "stream",
          "text": [
            "[[   0    0    0    0 9492 9895 4042 5078]\n",
            " [   0    0    0    0 9492 9895 4042 8494]\n",
            " [   0    0    0    0 9492 9444 4042 7193]\n",
            " [   0    0    0 5207 6684 6677 4414 9633]\n",
            " [   0    0    0 5207 6684 6677 4414 1133]\n",
            " [   0    0    0 3796 9492 4195 4042 7512]\n",
            " [   0    0    0    0 8393 3004 6640 4414]]\n"
          ],
          "name": "stdout"
        }
      ]
    },
    {
      "cell_type": "code",
      "metadata": {
        "id": "xpFZe50wdWL8"
      },
      "source": [
        "dim=10"
      ],
      "execution_count": null,
      "outputs": []
    },
    {
      "cell_type": "code",
      "metadata": {
        "id": "V8hvjXiKdrQq"
      },
      "source": [
        "model=Sequential()\r\n",
        "model.add(Embedding(voc_size,10,input_length=sent_length))\r\n",
        "model.compile('adam','mse')"
      ],
      "execution_count": null,
      "outputs": []
    },
    {
      "cell_type": "code",
      "metadata": {
        "colab": {
          "base_uri": "https://localhost:8080/"
        },
        "id": "u7rhrd1MeeQ8",
        "outputId": "561527ed-facf-4fcc-a8c2-2ef93afc598e"
      },
      "source": [
        "model.summary()"
      ],
      "execution_count": null,
      "outputs": [
        {
          "output_type": "stream",
          "text": [
            "Model: \"sequential_4\"\n",
            "_________________________________________________________________\n",
            "Layer (type)                 Output Shape              Param #   \n",
            "=================================================================\n",
            "embedding_4 (Embedding)      (None, 8, 10)             100000    \n",
            "=================================================================\n",
            "Total params: 100,000\n",
            "Trainable params: 100,000\n",
            "Non-trainable params: 0\n",
            "_________________________________________________________________\n"
          ],
          "name": "stdout"
        }
      ]
    },
    {
      "cell_type": "code",
      "metadata": {
        "colab": {
          "base_uri": "https://localhost:8080/"
        },
        "id": "DI6FVwlqevin",
        "outputId": "d3c6debd-f8cd-4aee-a34f-ec28b954e812"
      },
      "source": [
        "print(model.predict(embedded_doc))"
      ],
      "execution_count": null,
      "outputs": [
        {
          "output_type": "stream",
          "text": [
            "[[[-0.02934184  0.03741021  0.02563796 -0.01303091  0.00109471\n",
            "    0.0470291   0.01406932 -0.02951783 -0.04438085  0.01724659]\n",
            "  [-0.02934184  0.03741021  0.02563796 -0.01303091  0.00109471\n",
            "    0.0470291   0.01406932 -0.02951783 -0.04438085  0.01724659]\n",
            "  [-0.02934184  0.03741021  0.02563796 -0.01303091  0.00109471\n",
            "    0.0470291   0.01406932 -0.02951783 -0.04438085  0.01724659]\n",
            "  [-0.02934184  0.03741021  0.02563796 -0.01303091  0.00109471\n",
            "    0.0470291   0.01406932 -0.02951783 -0.04438085  0.01724659]\n",
            "  [ 0.02549003 -0.02326655 -0.03098667  0.00321188  0.04437778\n",
            "    0.02939859 -0.04190449  0.0008123   0.00168703 -0.02901104]\n",
            "  [-0.01423901 -0.02601646 -0.0275831  -0.00780642 -0.04598116\n",
            "    0.00884636  0.00812585 -0.03154957  0.02493724 -0.04993754]\n",
            "  [-0.01976963  0.04556198 -0.00507583  0.04120487  0.0058881\n",
            "   -0.03344064  0.03325137  0.00910543 -0.02668462 -0.00384157]\n",
            "  [ 0.03952106  0.0348732  -0.04600262  0.02520202 -0.00741496\n",
            "    0.03958805 -0.01579934  0.00017853  0.03821529  0.01027849]]\n",
            "\n",
            " [[-0.02934184  0.03741021  0.02563796 -0.01303091  0.00109471\n",
            "    0.0470291   0.01406932 -0.02951783 -0.04438085  0.01724659]\n",
            "  [-0.02934184  0.03741021  0.02563796 -0.01303091  0.00109471\n",
            "    0.0470291   0.01406932 -0.02951783 -0.04438085  0.01724659]\n",
            "  [-0.02934184  0.03741021  0.02563796 -0.01303091  0.00109471\n",
            "    0.0470291   0.01406932 -0.02951783 -0.04438085  0.01724659]\n",
            "  [-0.02934184  0.03741021  0.02563796 -0.01303091  0.00109471\n",
            "    0.0470291   0.01406932 -0.02951783 -0.04438085  0.01724659]\n",
            "  [ 0.02549003 -0.02326655 -0.03098667  0.00321188  0.04437778\n",
            "    0.02939859 -0.04190449  0.0008123   0.00168703 -0.02901104]\n",
            "  [-0.01423901 -0.02601646 -0.0275831  -0.00780642 -0.04598116\n",
            "    0.00884636  0.00812585 -0.03154957  0.02493724 -0.04993754]\n",
            "  [-0.01976963  0.04556198 -0.00507583  0.04120487  0.0058881\n",
            "   -0.03344064  0.03325137  0.00910543 -0.02668462 -0.00384157]\n",
            "  [ 0.01370603  0.03389573 -0.03654718  0.04952118  0.02008629\n",
            "    0.04616429  0.03761813 -0.03478408  0.02654373 -0.04948378]]\n",
            "\n",
            " [[-0.02934184  0.03741021  0.02563796 -0.01303091  0.00109471\n",
            "    0.0470291   0.01406932 -0.02951783 -0.04438085  0.01724659]\n",
            "  [-0.02934184  0.03741021  0.02563796 -0.01303091  0.00109471\n",
            "    0.0470291   0.01406932 -0.02951783 -0.04438085  0.01724659]\n",
            "  [-0.02934184  0.03741021  0.02563796 -0.01303091  0.00109471\n",
            "    0.0470291   0.01406932 -0.02951783 -0.04438085  0.01724659]\n",
            "  [-0.02934184  0.03741021  0.02563796 -0.01303091  0.00109471\n",
            "    0.0470291   0.01406932 -0.02951783 -0.04438085  0.01724659]\n",
            "  [ 0.02549003 -0.02326655 -0.03098667  0.00321188  0.04437778\n",
            "    0.02939859 -0.04190449  0.0008123   0.00168703 -0.02901104]\n",
            "  [-0.00479253  0.04255542 -0.00299971  0.01721418 -0.00793982\n",
            "   -0.01503098 -0.00562489 -0.00102667  0.00957271 -0.01238824]\n",
            "  [-0.01976963  0.04556198 -0.00507583  0.04120487  0.0058881\n",
            "   -0.03344064  0.03325137  0.00910543 -0.02668462 -0.00384157]\n",
            "  [-0.03254211  0.01601506  0.04375806 -0.03723215  0.04472799\n",
            "   -0.01512905  0.03394553 -0.00298706  0.01610993  0.00436587]]\n",
            "\n",
            " [[-0.02934184  0.03741021  0.02563796 -0.01303091  0.00109471\n",
            "    0.0470291   0.01406932 -0.02951783 -0.04438085  0.01724659]\n",
            "  [-0.02934184  0.03741021  0.02563796 -0.01303091  0.00109471\n",
            "    0.0470291   0.01406932 -0.02951783 -0.04438085  0.01724659]\n",
            "  [-0.02934184  0.03741021  0.02563796 -0.01303091  0.00109471\n",
            "    0.0470291   0.01406932 -0.02951783 -0.04438085  0.01724659]\n",
            "  [-0.03379082  0.01875189 -0.006662    0.04110065 -0.02059968\n",
            "   -0.01881     0.01712883  0.001472    0.02795931 -0.01362206]\n",
            "  [ 0.0285324   0.01241003  0.00043301 -0.00378271 -0.04766665\n",
            "    0.03454978 -0.01496178 -0.01538937 -0.00519837 -0.00452938]\n",
            "  [ 0.03347887 -0.04545999  0.01466551  0.04271454  0.02662187\n",
            "    0.01592823  0.03255801 -0.01152421  0.03854226  0.02667784]\n",
            "  [-0.03708849 -0.00827478  0.04027848 -0.04240159 -0.01201438\n",
            "    0.01329938  0.04857845 -0.00396841 -0.02454286 -0.00503453]\n",
            "  [-0.00421558 -0.0474954   0.01132737 -0.04022257  0.00146244\n",
            "   -0.03623777 -0.03049165 -0.02752304  0.02356981 -0.03062241]]\n",
            "\n",
            " [[-0.02934184  0.03741021  0.02563796 -0.01303091  0.00109471\n",
            "    0.0470291   0.01406932 -0.02951783 -0.04438085  0.01724659]\n",
            "  [-0.02934184  0.03741021  0.02563796 -0.01303091  0.00109471\n",
            "    0.0470291   0.01406932 -0.02951783 -0.04438085  0.01724659]\n",
            "  [-0.02934184  0.03741021  0.02563796 -0.01303091  0.00109471\n",
            "    0.0470291   0.01406932 -0.02951783 -0.04438085  0.01724659]\n",
            "  [-0.03379082  0.01875189 -0.006662    0.04110065 -0.02059968\n",
            "   -0.01881     0.01712883  0.001472    0.02795931 -0.01362206]\n",
            "  [ 0.0285324   0.01241003  0.00043301 -0.00378271 -0.04766665\n",
            "    0.03454978 -0.01496178 -0.01538937 -0.00519837 -0.00452938]\n",
            "  [ 0.03347887 -0.04545999  0.01466551  0.04271454  0.02662187\n",
            "    0.01592823  0.03255801 -0.01152421  0.03854226  0.02667784]\n",
            "  [-0.03708849 -0.00827478  0.04027848 -0.04240159 -0.01201438\n",
            "    0.01329938  0.04857845 -0.00396841 -0.02454286 -0.00503453]\n",
            "  [-0.00301768 -0.03268861 -0.04675524  0.02757262  0.00640529\n",
            "    0.0058946   0.02791751 -0.03399638 -0.00164111  0.02011243]]\n",
            "\n",
            " [[-0.02934184  0.03741021  0.02563796 -0.01303091  0.00109471\n",
            "    0.0470291   0.01406932 -0.02951783 -0.04438085  0.01724659]\n",
            "  [-0.02934184  0.03741021  0.02563796 -0.01303091  0.00109471\n",
            "    0.0470291   0.01406932 -0.02951783 -0.04438085  0.01724659]\n",
            "  [-0.02934184  0.03741021  0.02563796 -0.01303091  0.00109471\n",
            "    0.0470291   0.01406932 -0.02951783 -0.04438085  0.01724659]\n",
            "  [-0.01294531 -0.04686786 -0.0185836   0.02938638 -0.04632103\n",
            "   -0.01071512 -0.04537047 -0.03570759  0.02490962 -0.02546296]\n",
            "  [ 0.02549003 -0.02326655 -0.03098667  0.00321188  0.04437778\n",
            "    0.02939859 -0.04190449  0.0008123   0.00168703 -0.02901104]\n",
            "  [ 0.01102642  0.01208407  0.02824748 -0.03156952 -0.01538616\n",
            "    0.04495157 -0.01046719  0.00658747  0.0136459  -0.04747918]\n",
            "  [-0.01976963  0.04556198 -0.00507583  0.04120487  0.0058881\n",
            "   -0.03344064  0.03325137  0.00910543 -0.02668462 -0.00384157]\n",
            "  [ 0.01927039  0.04065139 -0.04576521  0.00210553  0.01029127\n",
            "    0.04341299  0.04918864  0.01856161  0.0359388   0.04540142]]\n",
            "\n",
            " [[-0.02934184  0.03741021  0.02563796 -0.01303091  0.00109471\n",
            "    0.0470291   0.01406932 -0.02951783 -0.04438085  0.01724659]\n",
            "  [-0.02934184  0.03741021  0.02563796 -0.01303091  0.00109471\n",
            "    0.0470291   0.01406932 -0.02951783 -0.04438085  0.01724659]\n",
            "  [-0.02934184  0.03741021  0.02563796 -0.01303091  0.00109471\n",
            "    0.0470291   0.01406932 -0.02951783 -0.04438085  0.01724659]\n",
            "  [-0.02934184  0.03741021  0.02563796 -0.01303091  0.00109471\n",
            "    0.0470291   0.01406932 -0.02951783 -0.04438085  0.01724659]\n",
            "  [ 0.00952657  0.04478479 -0.0321257  -0.04671445  0.02282958\n",
            "   -0.01182866  0.00478532 -0.04299229 -0.02106841 -0.04590334]\n",
            "  [ 0.00269674  0.02477681 -0.02567468 -0.0115818  -0.00924972\n",
            "    0.01279222  0.04873581  0.04084048  0.02150745  0.00487657]\n",
            "  [ 0.03999645 -0.01447313  0.00293077 -0.02829332  0.03083447\n",
            "    0.01650355  0.0417569   0.00089893 -0.0082834   0.04547955]\n",
            "  [-0.03708849 -0.00827478  0.04027848 -0.04240159 -0.01201438\n",
            "    0.01329938  0.04857845 -0.00396841 -0.02454286 -0.00503453]]]\n"
          ],
          "name": "stdout"
        }
      ]
    },
    {
      "cell_type": "code",
      "metadata": {
        "colab": {
          "base_uri": "https://localhost:8080/"
        },
        "id": "DNDeQXOpfHOe",
        "outputId": "8b6cb668-2f73-4059-8203-20e84bc389b0"
      },
      "source": [
        "print(model.predict(embedded_doc[0]))"
      ],
      "execution_count": null,
      "outputs": [
        {
          "output_type": "stream",
          "text": [
            "WARNING:tensorflow:Model was constructed with shape (None, 8) for input KerasTensor(type_spec=TensorSpec(shape=(None, 8), dtype=tf.float32, name='embedding_4_input'), name='embedding_4_input', description=\"created by layer 'embedding_4_input'\"), but it was called on an input with incompatible shape (None, 1).\n",
            "WARNING:tensorflow:5 out of the last 5 calls to <function Model.make_predict_function.<locals>.predict_function at 0x7f044b066320> triggered tf.function retracing. Tracing is expensive and the excessive number of tracings could be due to (1) creating @tf.function repeatedly in a loop, (2) passing tensors with different shapes, (3) passing Python objects instead of tensors. For (1), please define your @tf.function outside of the loop. For (2), @tf.function has experimental_relax_shapes=True option that relaxes argument shapes that can avoid unnecessary retracing. For (3), please refer to https://www.tensorflow.org/guide/function#controlling_retracing and https://www.tensorflow.org/api_docs/python/tf/function for  more details.\n",
            "[[[-0.02934184  0.03741021  0.02563796 -0.01303091  0.00109471\n",
            "    0.0470291   0.01406932 -0.02951783 -0.04438085  0.01724659]]\n",
            "\n",
            " [[-0.02934184  0.03741021  0.02563796 -0.01303091  0.00109471\n",
            "    0.0470291   0.01406932 -0.02951783 -0.04438085  0.01724659]]\n",
            "\n",
            " [[-0.02934184  0.03741021  0.02563796 -0.01303091  0.00109471\n",
            "    0.0470291   0.01406932 -0.02951783 -0.04438085  0.01724659]]\n",
            "\n",
            " [[-0.02934184  0.03741021  0.02563796 -0.01303091  0.00109471\n",
            "    0.0470291   0.01406932 -0.02951783 -0.04438085  0.01724659]]\n",
            "\n",
            " [[ 0.02549003 -0.02326655 -0.03098667  0.00321188  0.04437778\n",
            "    0.02939859 -0.04190449  0.0008123   0.00168703 -0.02901104]]\n",
            "\n",
            " [[-0.01423901 -0.02601646 -0.0275831  -0.00780642 -0.04598116\n",
            "    0.00884636  0.00812585 -0.03154957  0.02493724 -0.04993754]]\n",
            "\n",
            " [[-0.01976963  0.04556198 -0.00507583  0.04120487  0.0058881\n",
            "   -0.03344064  0.03325137  0.00910543 -0.02668462 -0.00384157]]\n",
            "\n",
            " [[ 0.03952106  0.0348732  -0.04600262  0.02520202 -0.00741496\n",
            "    0.03958805 -0.01579934  0.00017853  0.03821529  0.01027849]]]\n"
          ],
          "name": "stdout"
        }
      ]
    }
  ]
}